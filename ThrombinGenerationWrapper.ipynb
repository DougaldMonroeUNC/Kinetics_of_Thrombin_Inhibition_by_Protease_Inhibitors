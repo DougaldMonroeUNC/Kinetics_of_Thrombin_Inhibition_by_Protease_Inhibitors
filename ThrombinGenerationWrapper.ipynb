{
 "cells": [
  {
   "cell_type": "markdown",
   "id": "a47efc1b-d8cb-4d02-a648-c793c3a8183f",
   "metadata": {},
   "source": [
    "<h3>Hockin-Mann model from Owen et al</h3>\n",
    "\n",
    "Owen MJ, Wright JR, Tuddenham EGD, King JR, Goodall AH, Dunster JL. Mathematical models of coagulation-are we there yet? J Thromb Haemost. 2024 Jun;22(6):1689-1703. doi: 10.1016/j.jtha.2024.03.009.\n",
    "\n",
    "This analysis uses a JupyterLab session as a wrapper to import the python module hockin_modified.py which has reactions added for thrombin inhibition by heparin cofactor II, $\\alpha$-1-protease, and $\\alpha$-2-macroglobulin"
   ]
  },
  {
   "cell_type": "code",
   "execution_count": null,
   "id": "8c1cd656-e1dc-4bf2-9f61-14296180731d",
   "metadata": {},
   "outputs": [],
   "source": [
    "import numpy as np\n",
    "import scipy.integrate\n",
    "import pandas\n",
    "import matplotlib\n",
    "import matplotlib.pyplot as plt\n",
    "from matplotlib import rcParams, cycler  #needed to make color gradients\n",
    "%matplotlib inline"
   ]
  },
  {
   "cell_type": "code",
   "execution_count": null,
   "id": "b59b40ec-7b96-4cb6-afea-927803816c8e",
   "metadata": {},
   "outputs": [],
   "source": [
    "print('numerical python version: ',np.__version__)\n",
    "print('Pandas version: ',pandas.__version__)\n",
    "print('Matplotlib version: ', matplotlib.__version__)"
   ]
  },
  {
   "cell_type": "code",
   "execution_count": null,
   "id": "7c327557-7814-483f-b479-7f593021f502",
   "metadata": {},
   "outputs": [],
   "source": []
  },
  {
   "cell_type": "code",
   "execution_count": null,
   "id": "2fa33a4b-15e0-4cb2-8714-4aadd451908e",
   "metadata": {},
   "outputs": [],
   "source": [
    "import hockin_modified"
   ]
  },
  {
   "cell_type": "code",
   "execution_count": null,
   "id": "20a1cbcf-7998-4cd9-9e5c-cb4293af4daf",
   "metadata": {},
   "outputs": [],
   "source": [
    "y = hockin_modified.setIC();\n",
    "k = hockin_modified.getRates();"
   ]
  },
  {
   "cell_type": "code",
   "execution_count": null,
   "id": "be6cfbd5-4ecb-4bd4-b9c7-3bf63e6eca60",
   "metadata": {},
   "outputs": [],
   "source": [
    "normal = pandas.DataFrame(hockin_modified.getThr(k,y,2400), index=['seconds','thrombin']).transpose()"
   ]
  },
  {
   "cell_type": "code",
   "execution_count": null,
   "id": "b882b998-1810-43e3-bccf-75896fb7a039",
   "metadata": {},
   "outputs": [],
   "source": [
    "# display(normal)"
   ]
  },
  {
   "cell_type": "code",
   "execution_count": null,
   "id": "913c0010-75db-49d1-b54e-e54b4a01a931",
   "metadata": {},
   "outputs": [],
   "source": [
    "#set up dictionary for the data\n",
    "HemA_data = {}\n",
    "# factor VIII concentration is y[14]\n",
    "# antithrombin concentration is y[28]\n",
    "for i in [0.0, 0.03, 0.09, 0.15, 0.30, 1.0]:\n",
    "    y = hockin_modified.setIC()\n",
    "    y[14] = 0.0\n",
    "    y[28] = i*y[28]\n",
    "    sheetname = \"AT \" + str(round(i*100)) + \"%\"\n",
    "    df = pandas.DataFrame(hockin_modified.getThr(k,y,2400), index=['seconds','thrombin']).transpose()\n",
    "    HemA_data.update({sheetname: df})"
   ]
  },
  {
   "cell_type": "code",
   "execution_count": null,
   "id": "29c990a7-8bfa-421d-b034-f2ef958b49a1",
   "metadata": {},
   "outputs": [],
   "source": [
    "df_sheet = pandas.DataFrame(HemA_data.keys())\n",
    "display(df_sheet)"
   ]
  },
  {
   "cell_type": "code",
   "execution_count": null,
   "id": "db80e355-8701-41a5-b57d-e6e85d8a995a",
   "metadata": {},
   "outputs": [],
   "source": [
    "fig4, ax = plt.subplots(nrows=1, ncols=2, figsize=(13,6))\n",
    "for i in range(2):\n",
    "    ax[i].tick_params(which='both', direction='in', \n",
    "                      length=4, width=2, colors='k', \n",
    "                      grid_color='k', grid_alpha=1, labelsize=20)\n",
    "# \n",
    "# plot the results of the thrombin generation model\n",
    "# convert time to minutes\n",
    "# convert molar to nM\n",
    "#\n",
    "ax[0].plot(normal.loc[:,'seconds']/60, \n",
    "           normal.loc[:,'thrombin']*1e9, \n",
    "           'g-', linewidth=3, label='normal')\n",
    "#\n",
    "ax[1].plot(normal.iloc[:,0]/60,\n",
    "           scipy.integrate.cumulative_trapezoid(normal.loc[:,'thrombin']*1e9,\n",
    "                                                normal.loc[:,'seconds']/60, \n",
    "                                                initial=0), 'g-', linewidth=3)\n",
    "# \n",
    "# plot the results of the thrombin generation model in hemophilia with varied antithrombin\n",
    "#\n",
    "cmap = plt.cm.seismic\n",
    "rcParams['axes.prop_cycle'] = cycler(color=cmap(np.linspace(0, 1, len(df_sheet))))\n",
    "# \n",
    "for i in range(len(df_sheet)):\n",
    "    x = HemA_data[df_sheet.iloc[i,0]].loc[:,'seconds']/60\n",
    "    y = HemA_data[df_sheet.iloc[i,0]].loc[:,'thrombin']*1e9\n",
    "    y1 = scipy.integrate.cumulative_trapezoid(y, x, initial=0)\n",
    "    ax[0].plot(x, y, linewidth=3, label=df_sheet.iloc[i])\n",
    "    ax[1].plot(x, y1, linewidth=3)\n",
    "#\n",
    "ax[0].set_yticks(np.arange(0, 70, step=10))\n",
    "ax[0].set_ylabel(\"[thrombin] (nM)\", fontsize=20)\n",
    "ax[1].set_ylabel(\"integrated thrombin\", fontsize=20)\n",
    "for i in range(2):\n",
    "    ax[i].set_xlabel(\"time (minutes)\", fontsize=20)\n",
    "# \n",
    "ax[0].legend(loc='upper right', fontsize=14, labelspacing=0.2, frameon=False)\n",
    "#\n",
    "identifiers = ['A', 'B']\n",
    "for i in range(2):\n",
    "    x_min, x_max = ax[i].get_xlim()\n",
    "    y_min, y_max = ax[i].get_ylim()\n",
    "    ax[i].text(x_min-0.15*(x_max-x_min), \n",
    "               y_max+(0.05*(y_max-y_min)), \n",
    "               identifiers[i], \n",
    "               fontsize=36)\n",
    "#\n",
    "fig4.tight_layout(pad=2.0)"
   ]
  },
  {
   "cell_type": "markdown",
   "id": "fc0501bc-1ab8-4bd7-81b1-b826342cbbb6",
   "metadata": {},
   "source": [
    "<h3>\"Normal\" range of thrombin generation</h3>\n",
    "\n",
    "I am not sure how to put the increased thrombin generation in a context. Maybe one way is to generate a range of thrombin generation between when all the inhibitors are at the highest values of their normal range and when all the inhibitors are at the lowest values of their normal range.\n",
    "\n",
    "* AT 86% - 128%\n",
    "* HC 70% - 130%\n",
    "* a1PI 53% - 133%\n",
    "* a2M 70% - 155%"
   ]
  },
  {
   "cell_type": "code",
   "execution_count": null,
   "id": "4d050f92-bea2-4692-a933-c3bc1f59697f",
   "metadata": {},
   "outputs": [],
   "source": [
    "t_start = 0\n",
    "t_end = 2400\n",
    "t_interval = 201\n",
    "t_points = np.linspace(t_start, t_end, t_interval)\n",
    "#\n",
    "# antithrombin concentration is y[28]\n",
    "# heparin cofactor II is y[34]\n",
    "# alpha-1-protease inhibitor is y[35]\n",
    "# alpha-2-macroglobulin is y[36]\n",
    "#\n",
    "y = hockin_modified.setIC()\n",
    "k = hockin_modified.getRates()\n",
    "y[28] = 0.86*y[28]\n",
    "y[34] = 0.7*y[34]\n",
    "y[35] = 0.53*y[35]\n",
    "y[36] = 0.7*y[36]\n",
    "high_low_data.update({\"low\": scipy.integrate.solve_ivp(hockin_modified.ODE, \n",
    "                                                       (t_start,t_end), y, \n",
    "                                                       args=(k, ), \n",
    "                                                       t_eval=t_points, \n",
    "                                                       method='BDF', \n",
    "                                                       rtol=1e-4,atol=1e-16)})\n",
    "#\n",
    "y = hockin_modified.setIC()\n",
    "k = hockin_modified.getRates()\n",
    "y[28] = 1.28*y[28]\n",
    "y[34] = 1.3*y[34]\n",
    "y[35] = 1.33*y[35]\n",
    "y[36] = 1.55*y[36]\n",
    "high_low_data.update({\"high\": scipy.integrate.solve_ivp(hockin_modified.ODE, \n",
    "                                                        (t_start,t_end), y, \n",
    "                                                        args=(k, ), \n",
    "                                                        t_eval=t_points, \n",
    "                                                        method='BDF', \n",
    "                                                        rtol=1e-4,atol=1e-16)})\n",
    "#"
   ]
  },
  {
   "cell_type": "code",
   "execution_count": null,
   "id": "46f8f011-ae28-4099-b071-f8d0ca88d8bc",
   "metadata": {},
   "outputs": [],
   "source": [
    "df_low.to_csv('low.csv', \n",
    "              sep=',',\n",
    "              index=False,\n",
    "              header=True)\n",
    "#\n",
    "df_high.to_csv('high.csv', \n",
    "               sep=',',\n",
    "               index=False,\n",
    "               header=True)"
   ]
  },
  {
   "cell_type": "code",
   "execution_count": null,
   "id": "be0486dd-2ef0-4fd0-845f-7ac71d36fa4a",
   "metadata": {},
   "outputs": [],
   "source": [
    "fig5, ax = plt.subplots(nrows=1, ncols=2, figsize=(13,6))\n",
    "for i in range(2):\n",
    "    ax[i].tick_params(which='both', direction='in', \n",
    "                      length=4, width=2, colors='k', \n",
    "                      grid_color='k', grid_alpha=1, labelsize=20)\n",
    "# \n",
    "# plot the results of the thrombin generation model\n",
    "# convert time to minutes\n",
    "# convert molar to nM\n",
    "#\n",
    "ax[0].plot(normal.loc[:,'seconds']/60, \n",
    "           normal.loc[:,'thrombin']*1e9, \n",
    "           'g-', linewidth=3, label='normal')\n",
    "#\n",
    "ax[1].plot(normal.iloc[:,0]/60,\n",
    "           scipy.integrate.cumulative_trapezoid(normal.loc[:,'thrombin']*1e9,\n",
    "                                                normal.loc[:,'seconds']/60, \n",
    "                                                initial=0), 'g-', linewidth=3)\n",
    "# \n",
    "# plot thrombin generation within the inhibitors reference range extremes\n",
    "# \n",
    "ax[0].fill_between(high_low_data['low'].t/60, \n",
    "                   high_low_data['low'].y[6]*1e9, \n",
    "                   high_low_data['high'].y[6]*1e9, \n",
    "                   color='g', alpha=0.3)\n",
    "# \n",
    "y1i = scipy.integrate.cumulative_trapezoid(high_low_data['low'].y[6]*1e9, \n",
    "                                           high_low_data['low'].t/60, initial=0)\n",
    "y2i = scipy.integrate.cumulative_trapezoid(high_low_data['high'].y[6]*1e9, \n",
    "                                           high_low_data['high'].t/60, initial=0)\n",
    "ax[1].fill_between(high_low_data['low'].t/60, \n",
    "                   y1i, \n",
    "                   y2i, \n",
    "                   color='g', alpha=0.3)\n",
    "# \n",
    "# plot the results of the thrombin generation model in hemophilia with varied antithrombin\n",
    "#\n",
    "cmap = plt.cm.seismic\n",
    "rcParams['axes.prop_cycle'] = cycler(color=cmap(np.linspace(0, 1, len(df_sheet))))\n",
    "# \n",
    "for i in range(len(df_sheet)):\n",
    "    x = HemA_data[df_sheet.iloc[i,0]].loc[:,'seconds']/60\n",
    "    y = HemA_data[df_sheet.iloc[i,0]].loc[:,'thrombin']*1e9\n",
    "    y1 = scipy.integrate.cumulative_trapezoid(y, x, initial=0)\n",
    "    ax[0].plot(x, y, linewidth=3, label=df_sheet.iloc[i])\n",
    "    ax[1].plot(x, y1, linewidth=3)\n",
    "#\n",
    "ax[0].set_yticks(np.arange(0, 90, step=10))\n",
    "ax[0].set_ylabel(\"[thrombin] (nM)\", fontsize=20)\n",
    "ax[1].set_ylabel(\"integrated thrombin\", fontsize=20)\n",
    "for i in range(2):\n",
    "    ax[i].set_xlabel(\"time (minutes)\", fontsize=20)\n",
    "# \n",
    "ax[0].legend(loc='upper right', fontsize=14, labelspacing=0.2, frameon=False)\n",
    "#\n",
    "identifiers = ['A', 'B']\n",
    "for i in range(2):\n",
    "    x_min, x_max = ax[i].get_xlim()\n",
    "    y_min, y_max = ax[i].get_ylim()\n",
    "    ax[i].text(x_min-0.15*(x_max-x_min), \n",
    "               y_max+(0.05*(y_max-y_min)), \n",
    "               identifiers[i], \n",
    "               fontsize=36)\n",
    "#\n",
    "fig5.tight_layout(pad=2.0)"
   ]
  },
  {
   "cell_type": "code",
   "execution_count": null,
   "id": "9982ac11-18e7-46f7-a4af-9427f551982f",
   "metadata": {},
   "outputs": [],
   "source": [
    "# fig5.savefig('Figure_4.svg', bbox_inches='tight')"
   ]
  },
  {
   "cell_type": "code",
   "execution_count": null,
   "id": "1a0540e3-a5e9-4c77-bac6-06071295bfc1",
   "metadata": {},
   "outputs": [],
   "source": []
  }
 ],
 "metadata": {
  "kernelspec": {
   "display_name": "Python 3 (ipykernel)",
   "language": "python",
   "name": "python3"
  },
  "language_info": {
   "codemirror_mode": {
    "name": "ipython",
    "version": 3
   },
   "file_extension": ".py",
   "mimetype": "text/x-python",
   "name": "python",
   "nbconvert_exporter": "python",
   "pygments_lexer": "ipython3",
   "version": "3.12.8"
  }
 },
 "nbformat": 4,
 "nbformat_minor": 5
}
